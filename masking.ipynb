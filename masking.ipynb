{
  "nbformat": 4,
  "nbformat_minor": 0,
  "metadata": {
    "colab": {
      "name": "masking.ipynb",
      "provenance": [],
      "toc_visible": true,
      "collapsed_sections": [],
      "authorship_tag": "ABX9TyMnC/vBeKsj3pZe/f0CDcfE",
      "include_colab_link": true
    },
    "kernelspec": {
      "name": "python3",
      "display_name": "Python 3"
    },
    "language_info": {
      "name": "python"
    }
  },
  "cells": [
    {
      "cell_type": "markdown",
      "metadata": {
        "id": "view-in-github",
        "colab_type": "text"
      },
      "source": [
        "<a href=\"https://colab.research.google.com/github/Gittu-Thampi/glacial_lake_mapping/blob/main/masking.ipynb\" target=\"_parent\"><img src=\"https://colab.research.google.com/assets/colab-badge.svg\" alt=\"Open In Colab\"/></a>"
      ]
    },
    {
      "cell_type": "code",
      "source": [
        "from google.colab import drive\n",
        "drive.mount('/content/drive')"
      ],
      "metadata": {
        "colab": {
          "base_uri": "https://localhost:8080/"
        },
        "id": "58gCz8tfMH-i",
        "outputId": "468699c7-e449-42f6-bb25-528d32fd1b79"
      },
      "execution_count": null,
      "outputs": [
        {
          "output_type": "stream",
          "name": "stdout",
          "text": [
            "Mounted at /content/drive\n"
          ]
        }
      ]
    },
    {
      "cell_type": "code",
      "source": [
        "!nvidia-smi"
      ],
      "metadata": {
        "id": "NjdtZ0fxMNs7"
      },
      "execution_count": null,
      "outputs": []
    },
    {
      "cell_type": "code",
      "source": [
        "import glob, os\n",
        "import fiona\n",
        "import rasterio\n",
        "from rasterio.mask import mask\n",
        "import numpy\n",
        "from pylab import *\n",
        "\n",
        "# Source: #https://wiki.orfeo-toolbox.org/index.php/NDWI_(Mc_Feeters,_1996)\n",
        "# Load red and NIR bands - note all PlanetScope 4-band images have band order BGRN\n",
        "\n",
        "\n",
        "def calcNDWI(image_file, output_file):\n",
        "    # Source: #https://wiki.orfeo-toolbox.org/index.php/NDWI_(Mc_Feeters,_1996)\n",
        "    # Load red and NIR bands - note all PlanetScope 4-band images have band order BGRN\n",
        "    with rasterio.open(image_file) as src:\n",
        "        band_green = src.read(3)\n",
        "    with rasterio.open(image_file) as src:\n",
        "        band_nir = src.read(2)\n",
        "    # Allow division by zero\n",
        "    numpy.seterr(divide='ignore', invalid='ignore')\n",
        "    # Calculate NDVI\n",
        "    ndwi = (band_green.astype(float) - band_nir.astype(float)) / (band_green.astype(float) + band_nir.astype(float))\n",
        "    # Set spatial characteristics of the output object to mirror the input\n",
        "    kwargs = src.meta\n",
        "    kwargs.update(\n",
        "        dtype=rasterio.float32,\n",
        "        count = 1)\n",
        "    # Create the file\n",
        "    with rasterio.open(output_file, 'w', **kwargs) as dst:\n",
        "            dst.write_band(1, ndwi.astype(rasterio.float32))\n",
        "    return ndwi"
      ],
      "metadata": {
        "id": "ps2olphPT-Jh"
      },
      "execution_count": null,
      "outputs": []
    },
    {
      "cell_type": "code",
      "execution_count": null,
      "metadata": {
        "id": "XNF4AB8aS9Qf"
      },
      "outputs": [],
      "source": [
        "img = '/content/drive/MyDrive/programs/GlacialMaping/tifFile/LC08_L2SP_142040_20210131_20210302_02_T1.tif'\n",
        "\n",
        "\n",
        "ndwi = img[:-4] + '{}'.format(label_ndwi)\n",
        "ndwi_result = calcNDWI(img, ndwi)\n",
        "##ndwi_result.write(\"/content/drive/MyDrive/GeoTIFF/ims\")\n",
        "if ndwi_result.all is not None:\n",
        "    print('NDWI finished')\n",
        "\n",
        "show(r)\n",
        "plt.savefig('/content/drive/MyDrive/GeoTIFF/ims/my_plot.png')"
      ]
    }
  ]
}